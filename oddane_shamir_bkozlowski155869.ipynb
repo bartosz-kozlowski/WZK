{
 "cells": [
  {
   "cell_type": "code",
   "execution_count": 1,
   "id": "ad8e4d76-82c1-42c9-bfb6-0221edee47d3",
   "metadata": {},
   "outputs": [],
   "source": [
    "from ipywidgets import interact_manual, IntText, Text\n",
    "import ipywidgets as widgets\n",
    "import numpy as np\n",
    "from numpy.random import randint\n",
    "from fractions import Fraction\n",
    "import matplotlib.pyplot as plt"
   ]
  },
  {
   "cell_type": "code",
   "execution_count": 2,
   "id": "14634b39-4a39-4010-a7b1-afdff94ddfe5",
   "metadata": {},
   "outputs": [],
   "source": [
    "# Funkcje pomocnicze\n",
    "def poly_eval(A, x): #oblicza wartość wielomianu w punkcie\n",
    "    return np.polyval(A[::-1], x)\n",
    "\n",
    "def lagr_interp(X): #oblicza współczynniki interpolacji Lagrange’a \n",
    "    result = []\n",
    "    for i, xi in enumerate(X):\n",
    "        num = 1\n",
    "        den = 1\n",
    "        for j, xj in enumerate(X):\n",
    "            if i != j:\n",
    "                num *= xj\n",
    "                den *= xj - xi\n",
    "        result.append(Fraction(num, den))\n",
    "    return result"
   ]
  },
  {
   "cell_type": "code",
   "execution_count": 3,
   "id": "2e2e9043-cd77-4be8-ad62-9a6ff21e427c",
   "metadata": {},
   "outputs": [],
   "source": [
    "# ENCRYPTION\n",
    "def shamir_encrypt(secret, n, t, p):\n",
    "    assert p > secret, f'Liczba pierwsza p musi być większa niż sekret ({p} <= {secret})'\n",
    "    assert p > n, f'Liczba pierwsza p musi być większa niż liczba udziałów ({p} <= {n})'\n",
    "    assert t <= n, \"Próg t musi być mniejszy lub równy liczbie udziałów n.\"\n",
    "\n",
    "    # Generowanie współczynników wielomianu\n",
    "    A = [secret] + list(randint(0, p, size=t-1))\n",
    "    X = np.arange(1, n + 1)\n",
    "    #Obliczanie wartości wielomianu dla każdego udziału (modulo p)\n",
    "    Y = [poly_eval(A, x) % p for x in X]\n",
    "\n",
    "    print(\"Współczynniki wielomianu:\")\n",
    "    for i, a in enumerate(A):\n",
    "        print(f\"a_{i} = {a}\")\n",
    "\n",
    "    print(\"\\nUdziały:\")\n",
    "    for x, y in zip(X, Y):\n",
    "        print(f\"f({x}) mod p = {y}\")\n",
    "\n",
    "    print(\"\\n--- ENCRYPTED SHARES ---\")\n",
    "    print(\";\".join(f\"{x},{y}\" for x, y in zip(X, Y)))\n",
    "\n",
    "    # Wykres\n",
    "    x_vals = np.linspace(0, n + 2, 200)\n",
    "    y_vals = [poly_eval(A, x) % p for x in x_vals]\n",
    "    plt.plot(x_vals, y_vals, label='f(x)')\n",
    "    plt.scatter(X, Y, color='red', zorder=5)\n",
    "    plt.title(\"Wielomian tajemnicy i udziały\")\n",
    "    plt.xlabel(\"x\")\n",
    "    plt.ylabel(\"f(x) mod p\")\n",
    "    plt.grid(True)\n",
    "    plt.legend()\n",
    "    plt.show()"
   ]
  },
  {
   "cell_type": "code",
   "execution_count": 4,
   "id": "4ff48da9-c4a9-4bb9-8c50-545580f24b30",
   "metadata": {},
   "outputs": [],
   "source": [
    "# DECRYPTION\n",
    "def shamir_decrypt(keys, p):\n",
    "    try:\n",
    "        coords = [tuple(map(int, pair.strip().split(','))) for pair in keys.strip().split(';')]\n",
    "        X = np.array([c[0] for c in coords])\n",
    "        Y = np.array([c[1] for c in coords])\n",
    "    except Exception as e:\n",
    "        print(\"Błąd w formacie danych wejściowych. Użyj np. 1,123;2,456;3,789\")\n",
    "        print(f\"Szczegóły: {e}\")\n",
    "        return\n",
    "    \n",
    "    # Obliczenie współczynników interpolacyjnych Lagrange\n",
    "    L = lagr_interp(X)\n",
    "\n",
    "    S = 0\n",
    "    print(\"Interpolacja Lagrange'a (modularna):\")\n",
    "    for i in range(len(X)):\n",
    "        # y_i * l_i(0), gdzie l_i(0) = (iloczyn x_j) / (iloczyn (x_j - x_i)) modulo p\n",
    "        num = Y[i] * L[i].numerator % p\n",
    "        denom_inv = pow(int(L[i].denominator), -1, p)  # odwrotność modularna\n",
    "        term = (num * denom_inv) % p\n",
    "        S = (S + term) % p\n",
    "        print(f\"y_{i} * {L[i].numerator} / {L[i].denominator} mod {p} = {Y[i]} * {L[i].numerator} * {denom_inv} ≡ {term} (mod {p})\")\n",
    "\n",
    "    print(\"\\n--- DECRYPTED SECRET ---\")\n",
    "    print(S)"
   ]
  },
  {
   "cell_type": "code",
   "execution_count": 6,
   "id": "864a3a0d-85ae-457e-abaa-4940678cdfe3",
   "metadata": {},
   "outputs": [
    {
     "data": {
      "application/vnd.jupyter.widget-view+json": {
       "model_id": "9e2c70985cc743439f9ffe24bfdedd51",
       "version_major": 2,
       "version_minor": 0
      },
      "text/plain": [
       "interactive(children=(IntText(value=123, description='Sekret'), IntSlider(value=5, description='Liczba udziałó…"
      ]
     },
     "metadata": {},
     "output_type": "display_data"
    },
    {
     "data": {
      "application/vnd.jupyter.widget-view+json": {
       "model_id": "ed5447be8e144de29c085be9951e4164",
       "version_major": 2,
       "version_minor": 0
      },
      "text/plain": [
       "interactive(children=(Text(value='1,123;2,456;3,789', description='Udziały'), IntText(value=65537, description…"
      ]
     },
     "metadata": {},
     "output_type": "display_data"
    },
    {
     "data": {
      "text/plain": [
       "<function __main__.shamir_decrypt(keys, p)>"
      ]
     },
     "execution_count": 6,
     "metadata": {},
     "output_type": "execute_result"
    }
   ],
   "source": [
    "# INTERFEJS\n",
    "interact_manual(\n",
    "    shamir_encrypt,\n",
    "    secret=IntText(value=123, description=\"Sekret\"),\n",
    "    n=widgets.IntSlider(min=2, max=10, value=5, description=\"Liczba udziałów\"),\n",
    "    t=widgets.IntSlider(min=2, max=10, value=3, description=\"Próg\"),\n",
    "    p=IntText(value=65537, description=\"Liczba pierwsza\")\n",
    ")\n",
    "\n",
    "interact_manual(\n",
    "    shamir_decrypt,\n",
    "    keys=Text(value=\"1,123;2,456;3,789\", description=\"Udziały\"),\n",
    "    p=IntText(value=65537, description=\"Liczba pierwsza\")\n",
    ")"
   ]
  },
  {
   "cell_type": "code",
   "execution_count": null,
   "id": "9e1fab8a-a609-47ef-87aa-10fcfb18a5cb",
   "metadata": {},
   "outputs": [],
   "source": []
  }
 ],
 "metadata": {
  "kernelspec": {
   "display_name": "Python 3 (ipykernel)",
   "language": "python",
   "name": "python3"
  },
  "language_info": {
   "codemirror_mode": {
    "name": "ipython",
    "version": 3
   },
   "file_extension": ".py",
   "mimetype": "text/x-python",
   "name": "python",
   "nbconvert_exporter": "python",
   "pygments_lexer": "ipython3",
   "version": "3.10.7"
  }
 },
 "nbformat": 4,
 "nbformat_minor": 5
}
