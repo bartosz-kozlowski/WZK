{
 "cells": [
  {
   "cell_type": "code",
   "execution_count": 5,
   "id": "29fb2120-7471-4d84-aac6-3eb00a7fe453",
   "metadata": {},
   "outputs": [],
   "source": [
    "from PIL import Image\n",
    "import numpy as np"
   ]
  },
  {
   "cell_type": "code",
   "execution_count": 11,
   "id": "e91d7684-bd1c-4b30-bef8-de3edff9cbd1",
   "metadata": {},
   "outputs": [],
   "source": [
    "def encode_lsb(image_path, text, output_path):\n",
    "    img = Image.open(image_path)\n",
    "    img = img.convert(\"RGB\")\n",
    "    data = np.array(img)\n",
    "    flat_data = data.flatten()\n",
    "\n",
    "    # Zamiana tekstu na bity\n",
    "    bits = ''.join(f\"{ord(c):08b}\" for c in text)\n",
    "    bits += '00000000'  # bajt stopu\n",
    "\n",
    "    if len(bits) > len(flat_data):\n",
    "        raise ValueError(\"Za dużo danych do zakodowania w obrazie\")\n",
    "\n",
    "    for i, bit in enumerate(bits):\n",
    "        flat_data[i] = (flat_data[i] & ~1) | int(bit)\n",
    "\n",
    "    encoded_img = Image.fromarray(flat_data.reshape(data.shape))\n",
    "    encoded_img.save(output_path)"
   ]
  },
  {
   "cell_type": "code",
   "execution_count": 12,
   "id": "6bd62ce0-a718-4bde-9820-c613d7ba092b",
   "metadata": {},
   "outputs": [],
   "source": [
    "def decode_lsb(image_path):\n",
    "    img = Image.open(image_path)\n",
    "    data = np.array(img).flatten()\n",
    "\n",
    "    bits = \"\"\n",
    "    for val in data:\n",
    "        bits += str(val & 1)\n",
    "\n",
    "        # Co 8 bitów sprawdzamy znak\n",
    "        if len(bits) % 8 == 0:\n",
    "            char = chr(int(bits[-8:], 2))\n",
    "            if char == '\\x00':  # bajt stopu\n",
    "                break\n",
    "                \n",
    "    message = ''.join(chr(int(bits[i:i+8], 2)) for i in range(0, len(bits)-8, 8))\n",
    "    return message"
   ]
  },
  {
   "cell_type": "code",
   "execution_count": 14,
   "id": "4df90caf-daa9-4da6-bb84-e164eb22e2db",
   "metadata": {},
   "outputs": [
    {
     "name": "stdout",
     "output_type": "stream",
     "text": [
      "Litwo ojczyzno moja\n"
     ]
    }
   ],
   "source": [
    "encode_lsb(\"original.png\", \"Litwo ojczyzno moja\", \"encoded.png\")\n",
    "print(decode_lsb(\"encoded.png\"))"
   ]
  },
  {
   "cell_type": "markdown",
   "id": "1e1681bb-5c0a-4250-8576-5cbf5c060a22",
   "metadata": {},
   "source": [
    "## Pytania\n",
    "\n",
    "### 1. Czy taki sposób ukrywania informacji w obrazie jest odporny na ataki i próby zniszczenia osadzonej wiadomości?\n",
    "\n",
    "Nie, metoda LSB (Least Significant Bit) nie jest odporna na ataki ani przypadkowe usunięcie ukrytej informacji. Jest to technika prosta i łatwa do złamania, ponieważ:\n",
    "- Wiadomość jest wstawiana w sposób deterministyczny (np. od pierwszego piksela w przód),\n",
    "- Nie stosuje się żadnego szyfrowania ani maskowania danych,\n",
    "- Dane ukryte są w najmłodszych bitach bajtów obrazu, co czyni je bardzo podatnymi na modyfikacje,\n",
    "- Zmiany takie jak kompresja, filtracja czy edycja obrazu mogą całkowicie zniszczyć ukrytą wiadomość.\n",
    "\n",
    "---\n",
    "\n",
    "### 2. Przykładowe ataki na osadzoną wiadomość\n",
    "\n",
    "1. **Kompresja stratna (np. JPEG)**  \n",
    "   - Usuwa drobne różnice w pikselach, przez co niszczy dane w LSB.\n",
    "\n",
    "2. **Zmiana formatu lub edycja obrazu**  \n",
    "   - Operacje takie jak zmiana rozdzielczości, jasności, kontrastu lub zastosowanie filtrów mogą nadpisać ukryte dane.\n",
    "\n",
    "3. **Dodanie szumu**  \n",
    "   - Nawet drobne zaburzenia mogą zniszczyć zakodowane bity.\n",
    "\n",
    "4. **Atak różnicowy (diff attack)**  \n",
    "   - Porównanie obrazu zmodyfikowanego z oryginałem pozwala wykryć zmiany w LSB.\n",
    "\n",
    "---\n",
    "\n",
    "### 3. Jaki jest maksymalny rozmiar wiadomości możliwy do ukrycia?\n",
    "\n",
    "Zakładając, że każdy najmłodszy bit bajtu (LSB) może przechować jeden bit wiadomości:\n",
    "\n",
    "- W obrazie RGB: **1 piksel = 3 bajty** (R, G, B), co daje **3 bity możliwe do wykorzystania** na wiadomość.\n",
    "- Aby zakodować **1 znak (8 bitów)**, potrzeba **8 bajtów**, czyli około **2.67 pikseli**.\n",
    "\n",
    "**Wzór na maksymalny rozmiar wiadomości w znakach:**\n",
    "- maksymalna liczba znaków = (szerokość × wysokość × 3) // 8 - 1\n",
    "- `// 8` – bo 8 bitów = 1 znak,\n",
    "- `-1` – rezerwujemy ostatni bajt na bajt stopu (`\\x00`), który sygnalizuje koniec wiadomości."
   ]
  },
  {
   "cell_type": "code",
   "execution_count": null,
   "id": "bbe97e4c-f167-4397-a27d-e9bf86a8187d",
   "metadata": {},
   "outputs": [],
   "source": []
  }
 ],
 "metadata": {
  "kernelspec": {
   "display_name": "Python 3 (ipykernel)",
   "language": "python",
   "name": "python3"
  },
  "language_info": {
   "codemirror_mode": {
    "name": "ipython",
    "version": 3
   },
   "file_extension": ".py",
   "mimetype": "text/x-python",
   "name": "python",
   "nbconvert_exporter": "python",
   "pygments_lexer": "ipython3",
   "version": "3.10.7"
  }
 },
 "nbformat": 4,
 "nbformat_minor": 5
}
